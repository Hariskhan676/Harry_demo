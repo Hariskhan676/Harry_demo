{
 "cells": [
  {
   "cell_type": "markdown",
   "id": "9ab02f0d-6d60-4085-a3e5-f692099bf065",
   "metadata": {},
   "source": [
    "# Data Science Tools and Ecosystem"
   ]
  },
  {
   "cell_type": "markdown",
   "id": "79adc8a0-12cb-406b-a842-39a215c22041",
   "metadata": {},
   "source": [
    "In this notebook,Data Science Tools and Ecosystem are summarized."
   ]
  },
  {
   "cell_type": "markdown",
   "id": "9b0c4b2f-4057-4abe-bb71-d80b33a83ebd",
   "metadata": {},
   "source": [
    "Some of the popular languages that data scientists use are:\n",
    "1. python\n",
    "2. R\n",
    "3. Julia\n",
    "4. scala\n",
    "   "
   ]
  },
  {
   "cell_type": "markdown",
   "id": "86eff3b5-4380-453d-a8db-fddd50fb1560",
   "metadata": {},
   "source": [
    "Some of the commonly used libraries for Data Scientists include:\n",
    "1. pandas\n",
    "2. numpy\n",
    "3. scikit learn\n",
    "4. tensor flow"
   ]
  },
  {
   "cell_type": "markdown",
   "id": "07d4a7fd-6fdd-4a76-9bbb-489a549c2166",
   "metadata": {},
   "source": [
    "|Data Science Tools|\n",
    "|------------------|\n",
    "|Pandas|\n",
    "|seaborn|\n",
    "|scikit learn|"
   ]
  },
  {
   "cell_type": "markdown",
   "id": "89deecac-76d6-4d2e-8362-0e4c460fed7e",
   "metadata": {},
   "source": [
    "### Below are a few examples of evaluating arithmetic expressions in pyhton"
   ]
  },
  {
   "cell_type": "code",
   "execution_count": 1,
   "id": "4460b8eb-97b6-4a8d-a289-75a61d2af873",
   "metadata": {},
   "outputs": [
    {
     "data": {
      "text/plain": [
       "17"
      ]
     },
     "execution_count": 1,
     "metadata": {},
     "output_type": "execute_result"
    }
   ],
   "source": [
    "# This is a simple arrithmetic expression to multiply then add integers.\n",
    "(3*4)+5"
   ]
  },
  {
   "cell_type": "code",
   "execution_count": 3,
   "id": "4ff285e5-5649-4b62-962d-729b340ec388",
   "metadata": {},
   "outputs": [
    {
     "data": {
      "text/plain": [
       "3.3333333333333335"
      ]
     },
     "execution_count": 3,
     "metadata": {},
     "output_type": "execute_result"
    }
   ],
   "source": [
    "# This will convert 200 minutes to hours by diving by 60.\n",
    "(200/60)"
   ]
  },
  {
   "cell_type": "markdown",
   "id": "2cfbb924-5dc1-414b-9896-3b0b81c3bd40",
   "metadata": {},
   "source": [
    "**Objectives**\n",
    "+ Some of the popular languages that data scientists use are:\n",
    "* python\n",
    "* R\n",
    "* scala\n",
    "* julia\n",
    "+ Some of the commonly used libraries for Data Scientists include:\n",
    "* pandas\n",
    "* numpy\n",
    "* scikit learn\n",
    "* tensor flow\n",
    "+  Evaluating arithmetic expressions in pyhton."
   ]
  },
  {
   "cell_type": "markdown",
   "id": "0472fe0e-62a5-47e5-8ee2-b59887870abf",
   "metadata": {},
   "source": [
    "## Author\n",
    "   Haris khan"
   ]
  }
 ],
 "metadata": {
  "kernelspec": {
   "display_name": "Python 3 (ipykernel)",
   "language": "python",
   "name": "python3"
  },
  "language_info": {
   "codemirror_mode": {
    "name": "ipython",
    "version": 3
   },
   "file_extension": ".py",
   "mimetype": "text/x-python",
   "name": "python",
   "nbconvert_exporter": "python",
   "pygments_lexer": "ipython3",
   "version": "3.11.7"
  }
 },
 "nbformat": 4,
 "nbformat_minor": 5
}
